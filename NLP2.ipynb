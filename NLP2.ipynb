{
  "nbformat": 4,
  "nbformat_minor": 0,
  "metadata": {
    "colab": {
      "provenance": [],
      "collapsed_sections": [],
      "authorship_tag": "ABX9TyP7T2259rGV4VTFW0j2r9ce",
      "include_colab_link": true
    },
    "kernelspec": {
      "name": "python3",
      "display_name": "Python 3"
    },
    "language_info": {
      "name": "python"
    },
    "accelerator": "GPU",
    "gpuClass": "standard"
  },
  "cells": [
    {
      "cell_type": "markdown",
      "metadata": {
        "id": "view-in-github",
        "colab_type": "text"
      },
      "source": [
        "<a href=\"https://colab.research.google.com/github/Nouhaila2002/next-word-prediction-using-LSTM/blob/main/NLP2.ipynb\" target=\"_parent\"><img src=\"https://colab.research.google.com/assets/colab-badge.svg\" alt=\"Open In Colab\"/></a>"
      ]
    },
    {
      "cell_type": "markdown",
      "source": [
        "\n",
        "\n",
        "```\n",
        "# Ce texte est au format code\n",
        "```\n",
        "\n",
        "**Next word prediction using LSTM**"
      ],
      "metadata": {
        "id": "iwxL-AkE88Mg"
      }
    },
    {
      "cell_type": "markdown",
      "source": [
        "**using 3 words to predict next word**\n",
        "\n",
        "**go to : https://gutenberg.org/files/1342/1342-0.txt  and copy the text in file  Pride and Prejudice.txt **"
      ],
      "metadata": {
        "id": "E_8UUPhp9GSR"
      }
    },
    {
      "cell_type": "markdown",
      "source": [
        "**Importing required libraries**"
      ],
      "metadata": {
        "id": "C3OfplyL9KGP"
      }
    },
    {
      "cell_type": "code",
      "execution_count": null,
      "metadata": {
        "id": "7CejlWm58wvl"
      },
      "outputs": [],
      "source": [
        "import tensorflow as tf\n",
        "from tensorflow.keras.preprocessing.text import Tokenizer\n",
        "from tensorflow.keras.layers import Embedding, LSTM, Dense\n",
        "from tensorflow.keras.models import Sequential\n",
        "from tensorflow.keras.utils import to_categorical\n",
        "from tensorflow.keras.optimizers import Adam\n",
        "import pickle\n",
        "import numpy as np\n",
        "import os"
      ]
    },
    {
      "cell_type": "code",
      "source": [
        "from google.colab import files\n",
        "uploaded = files.upload()"
      ],
      "metadata": {
        "colab": {
          "resources": {
            "http://localhost:8080/nbextensions/google.colab/files.js": {
              "data": "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",
              "ok": true,
              "headers": [
                [
                  "content-type",
                  "application/javascript"
                ]
              ],
              "status": 200,
              "status_text": ""
            }
          },
          "base_uri": "https://localhost:8080/",
          "height": 74
        },
        "id": "X_svLi609NlA",
        "outputId": "b3e2353a-c918-4e78-93d7-43dbf6d68e66"
      },
      "execution_count": null,
      "outputs": [
        {
          "output_type": "display_data",
          "data": {
            "text/plain": [
              "<IPython.core.display.HTML object>"
            ],
            "text/html": [
              "\n",
              "     <input type=\"file\" id=\"files-f7cbb674-47df-4502-8f99-e2167aea3dd9\" name=\"files[]\" multiple disabled\n",
              "        style=\"border:none\" />\n",
              "     <output id=\"result-f7cbb674-47df-4502-8f99-e2167aea3dd9\">\n",
              "      Upload widget is only available when the cell has been executed in the\n",
              "      current browser session. Please rerun this cell to enable.\n",
              "      </output>\n",
              "      <script src=\"/nbextensions/google.colab/files.js\"></script> "
            ]
          },
          "metadata": {}
        },
        {
          "output_type": "stream",
          "name": "stdout",
          "text": [
            "Saving Pride and Prejudice.txt to Pride and Prejudice.txt\n"
          ]
        }
      ]
    },
    {
      "cell_type": "markdown",
      "source": [
        "**Load and pre-process the data**"
      ],
      "metadata": {
        "id": "KTQIK7LH9Vus"
      }
    },
    {
      "cell_type": "code",
      "source": [
        "file = open(\"Pride and Prejudice.txt\",\"r\",encoding=\"utf8\")\n",
        "\n",
        "#store file in a list\n",
        "lines = []\n",
        "for i in file:\n",
        "    lines.append(i)\n",
        "    \n",
        "#convert list to string\n",
        "data = \"\"\n",
        "for i in lines:\n",
        "    data = ' '.join(lines)\n",
        "    \n",
        "#replace unnecessary stuff with space\n",
        "data = data.replace('\\n','').replace('\\r','').replace('\\ufeff','').replace('\"','').replace('\"','')\n",
        "\n",
        "#remove unnecessary space\n",
        "data = data.split()\n",
        "data = ' '.join(data)\n",
        "data[:500]"
      ],
      "metadata": {
        "colab": {
          "base_uri": "https://localhost:8080/",
          "height": 88
        },
        "id": "kvq_KhZV9Rss",
        "outputId": "08ab280f-b901-48fe-bd24-7a1ec4b83ba7"
      },
      "execution_count": null,
      "outputs": [
        {
          "output_type": "execute_result",
          "data": {
            "text/plain": [
              "'The Project Gutenberg eBook of Pride and Prejudice, by Jane Austen This eBook is for the use of anyone anywhere in the United States and most other parts of the world at no cost and with almost no restrictions whatsoever. You may copy it, give it away or re-use it under the terms of the Project Gutenberg License included with this eBook or online at www.gutenberg.org. If you are not located in the United States, you will have to check the laws of the country where you are located before using th'"
            ],
            "application/vnd.google.colaboratory.intrinsic+json": {
              "type": "string"
            }
          },
          "metadata": {},
          "execution_count": 8
        }
      ]
    },
    {
      "cell_type": "code",
      "source": [
        "len(data)"
      ],
      "metadata": {
        "colab": {
          "base_uri": "https://localhost:8080/"
        },
        "id": "sCZBRBiw9cH2",
        "outputId": "170a21c8-ad05-4a32-e107-af3157a16767"
      },
      "execution_count": null,
      "outputs": [
        {
          "output_type": "execute_result",
          "data": {
            "text/plain": [
              "701929"
            ]
          },
          "metadata": {},
          "execution_count": 9
        }
      ]
    },
    {
      "cell_type": "markdown",
      "source": [
        "**Apply Tokenization**"
      ],
      "metadata": {
        "id": "WaZF_u-J9gVT"
      }
    },
    {
      "cell_type": "markdown",
      "source": [],
      "metadata": {
        "id": "ioirWD-k9brX"
      }
    },
    {
      "cell_type": "code",
      "source": [
        "tokenizer = Tokenizer()\n",
        "tokenizer.fit_on_texts([data])\n",
        "\n",
        "#saving the tokenizer for predict function\n",
        "pickle.dump(tokenizer, open('token.pkl','wb'))\n",
        "\n",
        "sequence_data = tokenizer.texts_to_sequences([data])[0]\n",
        "sequence_data[:15]"
      ],
      "metadata": {
        "colab": {
          "base_uri": "https://localhost:8080/"
        },
        "id": "-6fsTOYF95aj",
        "outputId": "5efe1612-c0cb-475e-a43c-d5e170034bcc"
      },
      "execution_count": null,
      "outputs": [
        {
          "output_type": "execute_result",
          "data": {
            "text/plain": [
              "[1, 176, 160, 947, 3, 335, 4, 1209, 31, 74, 2600, 43, 947, 24, 22]"
            ]
          },
          "metadata": {},
          "execution_count": 10
        }
      ]
    },
    {
      "cell_type": "code",
      "source": [
        "len(sequence_data)"
      ],
      "metadata": {
        "colab": {
          "base_uri": "https://localhost:8080/"
        },
        "id": "2uyR3hKC97-3",
        "outputId": "0f71157f-c447-4584-8adc-39293347aa64"
      },
      "execution_count": null,
      "outputs": [
        {
          "output_type": "execute_result",
          "data": {
            "text/plain": [
              "127051"
            ]
          },
          "metadata": {},
          "execution_count": 11
        }
      ]
    },
    {
      "cell_type": "code",
      "source": [
        "vocab_size = len(tokenizer.word_index)+1\n",
        "print(vocab_size)"
      ],
      "metadata": {
        "colab": {
          "base_uri": "https://localhost:8080/"
        },
        "id": "ncwBAJdw9_d3",
        "outputId": "d5bfba17-6ef8-4113-9605-8ae99f902f4b"
      },
      "execution_count": null,
      "outputs": [
        {
          "output_type": "stream",
          "name": "stdout",
          "text": [
            "7243\n"
          ]
        }
      ]
    },
    {
      "cell_type": "code",
      "source": [
        "sequences = []\n",
        "\n",
        "for i in range(3,len(sequence_data)):\n",
        "    words = sequence_data[i-3:i+1]\n",
        "    sequences.append(words)\n",
        "    \n",
        "print(\"the length of sequences are: \", len(sequences))\n",
        "sequences = np.array(sequences)\n",
        "sequences[:10]\n"
      ],
      "metadata": {
        "colab": {
          "base_uri": "https://localhost:8080/"
        },
        "id": "4Huia0mW-Cxk",
        "outputId": "e4eee797-ebaa-48f3-f91c-5273dfb679fa"
      },
      "execution_count": null,
      "outputs": [
        {
          "output_type": "stream",
          "name": "stdout",
          "text": [
            "the length of sequences are:  127048\n"
          ]
        },
        {
          "output_type": "execute_result",
          "data": {
            "text/plain": [
              "array([[   1,  176,  160,  947],\n",
              "       [ 176,  160,  947,    3],\n",
              "       [ 160,  947,    3,  335],\n",
              "       [ 947,    3,  335,    4],\n",
              "       [   3,  335,    4, 1209],\n",
              "       [ 335,    4, 1209,   31],\n",
              "       [   4, 1209,   31,   74],\n",
              "       [1209,   31,   74, 2600],\n",
              "       [  31,   74, 2600,   43],\n",
              "       [  74, 2600,   43,  947]])"
            ]
          },
          "metadata": {},
          "execution_count": 13
        }
      ]
    },
    {
      "cell_type": "code",
      "source": [
        "X = []\n",
        "y = []\n",
        "\n",
        "for i in sequences:\n",
        "    X.append(i[0:3])\n",
        "    y.append(i[3])\n",
        "    \n",
        "    \n",
        "X = np.array(X)\n",
        "y = np.array(y)"
      ],
      "metadata": {
        "id": "qXJhs62X-GH9"
      },
      "execution_count": null,
      "outputs": []
    },
    {
      "cell_type": "code",
      "source": [
        "print(\"Data: \",X[:10])\n",
        "print(\"Response: \",y[:10])"
      ],
      "metadata": {
        "colab": {
          "base_uri": "https://localhost:8080/"
        },
        "id": "6XBvt89S-JTZ",
        "outputId": "f633266b-c8d4-4b52-f5f8-9817ae581546"
      },
      "execution_count": null,
      "outputs": [
        {
          "output_type": "stream",
          "name": "stdout",
          "text": [
            "Data:  [[   1  176  160]\n",
            " [ 176  160  947]\n",
            " [ 160  947    3]\n",
            " [ 947    3  335]\n",
            " [   3  335    4]\n",
            " [ 335    4 1209]\n",
            " [   4 1209   31]\n",
            " [1209   31   74]\n",
            " [  31   74 2600]\n",
            " [  74 2600   43]]\n",
            "Response:  [ 947    3  335    4 1209   31   74 2600   43  947]\n"
          ]
        }
      ]
    },
    {
      "cell_type": "code",
      "source": [
        "y = to_categorical(y, num_classes=vocab_size)\n",
        "y[:5]"
      ],
      "metadata": {
        "colab": {
          "base_uri": "https://localhost:8080/"
        },
        "id": "3YhgtaIN-P9X",
        "outputId": "0c575532-e91d-4e91-a0b6-64ff8d36fca0"
      },
      "execution_count": null,
      "outputs": [
        {
          "output_type": "execute_result",
          "data": {
            "text/plain": [
              "array([[0., 0., 0., ..., 0., 0., 0.],\n",
              "       [0., 0., 0., ..., 0., 0., 0.],\n",
              "       [0., 0., 0., ..., 0., 0., 0.],\n",
              "       [0., 0., 0., ..., 0., 0., 0.],\n",
              "       [0., 0., 0., ..., 0., 0., 0.]], dtype=float32)"
            ]
          },
          "metadata": {},
          "execution_count": 16
        }
      ]
    },
    {
      "cell_type": "markdown",
      "source": [
        "**Creating the model**"
      ],
      "metadata": {
        "id": "4-4RA5kt-UA0"
      }
    },
    {
      "cell_type": "code",
      "source": [
        "model = Sequential()\n",
        "model.add(Embedding(vocab_size,10,input_length=3))\n",
        "model.add(LSTM(1000, return_sequences=True))\n",
        "model.add(LSTM(1000))\n",
        "model.add(Dense(1000 ,activation=\"relu\"))\n",
        "model.add(Dense(vocab_size,activation=\"softmax\"))"
      ],
      "metadata": {
        "id": "OUSjkI5q-Uwm"
      },
      "execution_count": 19,
      "outputs": []
    },
    {
      "cell_type": "code",
      "source": [
        "model.summary()"
      ],
      "metadata": {
        "id": "POTnm6Gr-b3e",
        "colab": {
          "base_uri": "https://localhost:8080/"
        },
        "outputId": "71fbd332-0ce6-4676-a299-a8a031e0c348"
      },
      "execution_count": 20,
      "outputs": [
        {
          "output_type": "stream",
          "name": "stdout",
          "text": [
            "Model: \"sequential_2\"\n",
            "_________________________________________________________________\n",
            " Layer (type)                Output Shape              Param #   \n",
            "=================================================================\n",
            " embedding_2 (Embedding)     (None, 3, 10)             72430     \n",
            "                                                                 \n",
            " lstm_4 (LSTM)               (None, 3, 1000)           4044000   \n",
            "                                                                 \n",
            " lstm_5 (LSTM)               (None, 1000)              8004000   \n",
            "                                                                 \n",
            " dense (Dense)               (None, 1000)              1001000   \n",
            "                                                                 \n",
            " dense_1 (Dense)             (None, 7243)              7250243   \n",
            "                                                                 \n",
            "=================================================================\n",
            "Total params: 20,371,673\n",
            "Trainable params: 20,371,673\n",
            "Non-trainable params: 0\n",
            "_________________________________________________________________\n"
          ]
        }
      ]
    },
    {
      "cell_type": "markdown",
      "source": [
        "**Plot the model**"
      ],
      "metadata": {
        "id": "HElkFZwB-hzC"
      }
    },
    {
      "cell_type": "code",
      "source": [
        "from tensorflow import keras\n",
        "from keras.utils.vis_utils import plot_model\n",
        "\n",
        "keras.utils.plot_model(model, to_file='plot.png',show_layer_names=True)"
      ],
      "metadata": {
        "id": "mO7czr9a-fMe",
        "colab": {
          "base_uri": "https://localhost:8080/",
          "height": 564
        },
        "outputId": "8abb3703-5337-4cac-a77e-3e23930a1957"
      },
      "execution_count": 21,
      "outputs": [
        {
          "output_type": "execute_result",
          "data": {
            "image/png": "[encoded data removed]",
            "text/plain": [
              "<IPython.core.display.Image object>"
            ]
          },
          "metadata": {},
          "execution_count": 21
        }
      ]
    },
    {
      "cell_type": "markdown",
      "source": [
        "**Build our model**\n"
      ],
      "metadata": {
        "id": "vUU9ziFL-n3d"
      }
    },
    {
      "cell_type": "code",
      "source": [
        "from tensorflow.keras.callbacks import ModelCheckpoint\n",
        "\n",
        "checkpoint = ModelCheckpoint(\"next_words.h5\", monitor='loss', verbose=1, save_best_only=True)\n",
        "model.compile(loss=\"categorical_crossentropy\", optimizer=Adam(learning_rate=0.001))\n",
        "model.fit(X,y,epochs=70,batch_size=64,callbacks=[checkpoint])"
      ],
      "metadata": {
        "id": "eXZ82yDN-oOy",
        "colab": {
          "base_uri": "https://localhost:8080/"
        },
        "outputId": "bd477ab4-64c6-4b07-e1d1-576aa6dbe703"
      },
      "execution_count": 22,
      "outputs": [
        {
          "output_type": "stream",
          "name": "stdout",
          "text": [
            "Epoch 1/70\n",
            "1986/1986 [==============================] - ETA: 0s - loss: 6.2686\n",
            "Epoch 1: loss improved from inf to 6.26859, saving model to next_words.h5\n",
            "1986/1986 [==============================] - 39s 15ms/step - loss: 6.2686\n",
            "Epoch 2/70\n",
            "1986/1986 [==============================] - ETA: 0s - loss: 5.6263\n",
            "Epoch 2: loss improved from 6.26859 to 5.62630, saving model to next_words.h5\n",
            "1986/1986 [==============================] - 30s 15ms/step - loss: 5.6263\n",
            "Epoch 3/70\n",
            "1983/1986 [============================>.] - ETA: 0s - loss: 5.2623\n",
            "Epoch 3: loss improved from 5.62630 to 5.26243, saving model to next_words.h5\n",
            "1986/1986 [==============================] - 30s 15ms/step - loss: 5.2624\n",
            "Epoch 4/70\n",
            "1983/1986 [============================>.] - ETA: 0s - loss: 5.0047\n",
            "Epoch 4: loss improved from 5.26243 to 5.00433, saving model to next_words.h5\n",
            "1986/1986 [==============================] - 30s 15ms/step - loss: 5.0043\n",
            "Epoch 5/70\n",
            "1984/1986 [============================>.] - ETA: 0s - loss: 4.7856\n",
            "Epoch 5: loss improved from 5.00433 to 4.78548, saving model to next_words.h5\n",
            "1986/1986 [==============================] - 30s 15ms/step - loss: 4.7855\n",
            "Epoch 6/70\n",
            "1986/1986 [==============================] - ETA: 0s - loss: 4.5746\n",
            "Epoch 6: loss improved from 4.78548 to 4.57458, saving model to next_words.h5\n",
            "1986/1986 [==============================] - 31s 15ms/step - loss: 4.5746\n",
            "Epoch 7/70\n",
            "1984/1986 [============================>.] - ETA: 0s - loss: 4.3620\n",
            "Epoch 7: loss improved from 4.57458 to 4.36225, saving model to next_words.h5\n",
            "1986/1986 [==============================] - 30s 15ms/step - loss: 4.3622\n",
            "Epoch 8/70\n",
            "1983/1986 [============================>.] - ETA: 0s - loss: 4.1456\n",
            "Epoch 8: loss improved from 4.36225 to 4.14556, saving model to next_words.h5\n",
            "1986/1986 [==============================] - 30s 15ms/step - loss: 4.1456\n",
            "Epoch 9/70\n",
            "1985/1986 [============================>.] - ETA: 0s - loss: 3.9207\n",
            "Epoch 9: loss improved from 4.14556 to 3.92069, saving model to next_words.h5\n",
            "1986/1986 [==============================] - 30s 15ms/step - loss: 3.9207\n",
            "Epoch 10/70\n",
            "1983/1986 [============================>.] - ETA: 0s - loss: 3.6876\n",
            "Epoch 10: loss improved from 3.92069 to 3.68752, saving model to next_words.h5\n",
            "1986/1986 [==============================] - 31s 15ms/step - loss: 3.6875\n",
            "Epoch 11/70\n",
            "1983/1986 [============================>.] - ETA: 0s - loss: 3.4491\n",
            "Epoch 11: loss improved from 3.68752 to 3.44936, saving model to next_words.h5\n",
            "1986/1986 [==============================] - 30s 15ms/step - loss: 3.4494\n",
            "Epoch 12/70\n",
            "1986/1986 [==============================] - ETA: 0s - loss: 3.2103\n",
            "Epoch 12: loss improved from 3.44936 to 3.21028, saving model to next_words.h5\n",
            "1986/1986 [==============================] - 31s 15ms/step - loss: 3.2103\n",
            "Epoch 13/70\n",
            "1983/1986 [============================>.] - ETA: 0s - loss: 2.9712\n",
            "Epoch 13: loss improved from 3.21028 to 2.97121, saving model to next_words.h5\n",
            "1986/1986 [==============================] - 31s 16ms/step - loss: 2.9712\n",
            "Epoch 14/70\n",
            "1985/1986 [============================>.] - ETA: 0s - loss: 2.7271\n",
            "Epoch 14: loss improved from 2.97121 to 2.72709, saving model to next_words.h5\n",
            "1986/1986 [==============================] - 31s 16ms/step - loss: 2.7271\n",
            "Epoch 15/70\n",
            "1983/1986 [============================>.] - ETA: 0s - loss: 2.4796\n",
            "Epoch 15: loss improved from 2.72709 to 2.47985, saving model to next_words.h5\n",
            "1986/1986 [==============================] - 31s 16ms/step - loss: 2.4799\n",
            "Epoch 16/70\n",
            "1985/1986 [============================>.] - ETA: 0s - loss: 2.2388\n",
            "Epoch 16: loss improved from 2.47985 to 2.23879, saving model to next_words.h5\n",
            "1986/1986 [==============================] - 31s 15ms/step - loss: 2.2388\n",
            "Epoch 17/70\n",
            "1986/1986 [==============================] - ETA: 0s - loss: 2.0035\n",
            "Epoch 17: loss improved from 2.23879 to 2.00351, saving model to next_words.h5\n",
            "1986/1986 [==============================] - 31s 16ms/step - loss: 2.0035\n",
            "Epoch 18/70\n",
            "1985/1986 [============================>.] - ETA: 0s - loss: 1.7883\n",
            "Epoch 18: loss improved from 2.00351 to 1.78833, saving model to next_words.h5\n",
            "1986/1986 [==============================] - 31s 15ms/step - loss: 1.7883\n",
            "Epoch 19/70\n",
            "1983/1986 [============================>.] - ETA: 0s - loss: 1.5882\n",
            "Epoch 19: loss improved from 1.78833 to 1.58846, saving model to next_words.h5\n",
            "1986/1986 [==============================] - 31s 15ms/step - loss: 1.5885\n",
            "Epoch 20/70\n",
            "1986/1986 [==============================] - ETA: 0s - loss: 1.4125\n",
            "Epoch 20: loss improved from 1.58846 to 1.41253, saving model to next_words.h5\n",
            "1986/1986 [==============================] - 31s 16ms/step - loss: 1.4125\n",
            "Epoch 21/70\n",
            "1984/1986 [============================>.] - ETA: 0s - loss: 1.2613\n",
            "Epoch 21: loss improved from 1.41253 to 1.26140, saving model to next_words.h5\n",
            "1986/1986 [==============================] - 30s 15ms/step - loss: 1.2614\n",
            "Epoch 22/70\n",
            "1984/1986 [============================>.] - ETA: 0s - loss: 1.1361\n",
            "Epoch 22: loss improved from 1.26140 to 1.13627, saving model to next_words.h5\n",
            "1986/1986 [==============================] - 30s 15ms/step - loss: 1.1363\n",
            "Epoch 23/70\n",
            "1983/1986 [============================>.] - ETA: 0s - loss: 1.0379\n",
            "Epoch 23: loss improved from 1.13627 to 1.03838, saving model to next_words.h5\n",
            "1986/1986 [==============================] - 30s 15ms/step - loss: 1.0384\n",
            "Epoch 24/70\n",
            "1984/1986 [============================>.] - ETA: 0s - loss: 0.9559\n",
            "Epoch 24: loss improved from 1.03838 to 0.95604, saving model to next_words.h5\n",
            "1986/1986 [==============================] - 30s 15ms/step - loss: 0.9560\n",
            "Epoch 25/70\n",
            "1985/1986 [============================>.] - ETA: 0s - loss: 0.8909\n",
            "Epoch 25: loss improved from 0.95604 to 0.89087, saving model to next_words.h5\n",
            "1986/1986 [==============================] - 31s 15ms/step - loss: 0.8909\n",
            "Epoch 26/70\n",
            "1985/1986 [============================>.] - ETA: 0s - loss: 0.8426\n",
            "Epoch 26: loss improved from 0.89087 to 0.84262, saving model to next_words.h5\n",
            "1986/1986 [==============================] - 31s 15ms/step - loss: 0.8426\n",
            "Epoch 27/70\n",
            "1986/1986 [==============================] - ETA: 0s - loss: 0.7961\n",
            "Epoch 27: loss improved from 0.84262 to 0.79608, saving model to next_words.h5\n",
            "1986/1986 [==============================] - 31s 15ms/step - loss: 0.7961\n",
            "Epoch 28/70\n",
            "1983/1986 [============================>.] - ETA: 0s - loss: 0.7621\n",
            "Epoch 28: loss improved from 0.79608 to 0.76198, saving model to next_words.h5\n",
            "1986/1986 [==============================] - 31s 15ms/step - loss: 0.7620\n",
            "Epoch 29/70\n",
            "1985/1986 [============================>.] - ETA: 0s - loss: 0.7367\n",
            "Epoch 29: loss improved from 0.76198 to 0.73673, saving model to next_words.h5\n",
            "1986/1986 [==============================] - 31s 15ms/step - loss: 0.7367\n",
            "Epoch 30/70\n",
            "1983/1986 [============================>.] - ETA: 0s - loss: 0.7084\n",
            "Epoch 30: loss improved from 0.73673 to 0.70845, saving model to next_words.h5\n",
            "1986/1986 [==============================] - 30s 15ms/step - loss: 0.7085\n",
            "Epoch 31/70\n",
            "1985/1986 [============================>.] - ETA: 0s - loss: 0.6868\n",
            "Epoch 31: loss improved from 0.70845 to 0.68677, saving model to next_words.h5\n",
            "1986/1986 [==============================] - 30s 15ms/step - loss: 0.6868\n",
            "Epoch 32/70\n",
            "1985/1986 [============================>.] - ETA: 0s - loss: 0.6679\n",
            "Epoch 32: loss improved from 0.68677 to 0.66794, saving model to next_words.h5\n",
            "1986/1986 [==============================] - 30s 15ms/step - loss: 0.6679\n",
            "Epoch 33/70\n",
            "1984/1986 [============================>.] - ETA: 0s - loss: 0.6518\n",
            "Epoch 33: loss improved from 0.66794 to 0.65185, saving model to next_words.h5\n",
            "1986/1986 [==============================] - 30s 15ms/step - loss: 0.6518\n",
            "Epoch 34/70\n",
            "1984/1986 [============================>.] - ETA: 0s - loss: 0.6369\n",
            "Epoch 34: loss improved from 0.65185 to 0.63691, saving model to next_words.h5\n",
            "1986/1986 [==============================] - 31s 15ms/step - loss: 0.6369\n",
            "Epoch 35/70\n",
            "1984/1986 [============================>.] - ETA: 0s - loss: 0.6195\n",
            "Epoch 35: loss improved from 0.63691 to 0.61963, saving model to next_words.h5\n",
            "1986/1986 [==============================] - 31s 15ms/step - loss: 0.6196\n",
            "Epoch 36/70\n",
            "1985/1986 [============================>.] - ETA: 0s - loss: 0.6105\n",
            "Epoch 36: loss improved from 0.61963 to 0.61054, saving model to next_words.h5\n",
            "1986/1986 [==============================] - 30s 15ms/step - loss: 0.6105\n",
            "Epoch 37/70\n",
            "1985/1986 [============================>.] - ETA: 0s - loss: 0.5944\n",
            "Epoch 37: loss improved from 0.61054 to 0.59445, saving model to next_words.h5\n",
            "1986/1986 [==============================] - 30s 15ms/step - loss: 0.5945\n",
            "Epoch 38/70\n",
            "1985/1986 [============================>.] - ETA: 0s - loss: 0.5884\n",
            "Epoch 38: loss improved from 0.59445 to 0.58840, saving model to next_words.h5\n",
            "1986/1986 [==============================] - 30s 15ms/step - loss: 0.5884\n",
            "Epoch 39/70\n",
            "1986/1986 [==============================] - ETA: 0s - loss: 0.5767\n",
            "Epoch 39: loss improved from 0.58840 to 0.57670, saving model to next_words.h5\n",
            "1986/1986 [==============================] - 30s 15ms/step - loss: 0.5767\n",
            "Epoch 40/70\n",
            "1985/1986 [============================>.] - ETA: 0s - loss: 0.5702\n",
            "Epoch 40: loss improved from 0.57670 to 0.57021, saving model to next_words.h5\n",
            "1986/1986 [==============================] - 30s 15ms/step - loss: 0.5702\n",
            "Epoch 41/70\n",
            "1984/1986 [============================>.] - ETA: 0s - loss: 0.5577\n",
            "Epoch 41: loss improved from 0.57021 to 0.55783, saving model to next_words.h5\n",
            "1986/1986 [==============================] - 30s 15ms/step - loss: 0.5578\n",
            "Epoch 42/70\n",
            "1985/1986 [============================>.] - ETA: 0s - loss: 0.5529\n",
            "Epoch 42: loss improved from 0.55783 to 0.55296, saving model to next_words.h5\n",
            "1986/1986 [==============================] - 31s 16ms/step - loss: 0.5530\n",
            "Epoch 43/70\n",
            "1986/1986 [==============================] - ETA: 0s - loss: 0.5435\n",
            "Epoch 43: loss improved from 0.55296 to 0.54352, saving model to next_words.h5\n",
            "1986/1986 [==============================] - 31s 16ms/step - loss: 0.5435\n",
            "Epoch 44/70\n",
            "1983/1986 [============================>.] - ETA: 0s - loss: 0.5356\n",
            "Epoch 44: loss improved from 0.54352 to 0.53560, saving model to next_words.h5\n",
            "1986/1986 [==============================] - 30s 15ms/step - loss: 0.5356\n",
            "Epoch 45/70\n",
            "1983/1986 [============================>.] - ETA: 0s - loss: 0.5307\n",
            "Epoch 45: loss improved from 0.53560 to 0.53102, saving model to next_words.h5\n",
            "1986/1986 [==============================] - 30s 15ms/step - loss: 0.5310\n",
            "Epoch 46/70\n",
            "1985/1986 [============================>.] - ETA: 0s - loss: 0.5263\n",
            "Epoch 46: loss improved from 0.53102 to 0.52633, saving model to next_words.h5\n",
            "1986/1986 [==============================] - 31s 15ms/step - loss: 0.5263\n",
            "Epoch 47/70\n",
            "1986/1986 [==============================] - ETA: 0s - loss: 0.5179\n",
            "Epoch 47: loss improved from 0.52633 to 0.51790, saving model to next_words.h5\n",
            "1986/1986 [==============================] - 30s 15ms/step - loss: 0.5179\n",
            "Epoch 48/70\n",
            "1985/1986 [============================>.] - ETA: 0s - loss: 0.5133\n",
            "Epoch 48: loss improved from 0.51790 to 0.51327, saving model to next_words.h5\n",
            "1986/1986 [==============================] - 30s 15ms/step - loss: 0.5133\n",
            "Epoch 49/70\n",
            "1985/1986 [============================>.] - ETA: 0s - loss: 0.5090\n",
            "Epoch 49: loss improved from 0.51327 to 0.50902, saving model to next_words.h5\n",
            "1986/1986 [==============================] - 30s 15ms/step - loss: 0.5090\n",
            "Epoch 50/70\n",
            "1984/1986 [============================>.] - ETA: 0s - loss: 0.5005\n",
            "Epoch 50: loss improved from 0.50902 to 0.50047, saving model to next_words.h5\n",
            "1986/1986 [==============================] - 31s 15ms/step - loss: 0.5005\n",
            "Epoch 51/70\n",
            "1984/1986 [============================>.] - ETA: 0s - loss: 0.4963\n",
            "Epoch 51: loss improved from 0.50047 to 0.49643, saving model to next_words.h5\n",
            "1986/1986 [==============================] - 31s 16ms/step - loss: 0.4964\n",
            "Epoch 52/70\n",
            "1986/1986 [==============================] - ETA: 0s - loss: 0.4943\n",
            "Epoch 52: loss improved from 0.49643 to 0.49433, saving model to next_words.h5\n",
            "1986/1986 [==============================] - 31s 15ms/step - loss: 0.4943\n",
            "Epoch 53/70\n",
            "1985/1986 [============================>.] - ETA: 0s - loss: 0.4863\n",
            "Epoch 53: loss improved from 0.49433 to 0.48627, saving model to next_words.h5\n",
            "1986/1986 [==============================] - 31s 15ms/step - loss: 0.4863\n",
            "Epoch 54/70\n",
            "1983/1986 [============================>.] - ETA: 0s - loss: 0.4838\n",
            "Epoch 54: loss improved from 0.48627 to 0.48394, saving model to next_words.h5\n",
            "1986/1986 [==============================] - 30s 15ms/step - loss: 0.4839\n",
            "Epoch 55/70\n",
            "1986/1986 [==============================] - ETA: 0s - loss: 0.4794\n",
            "Epoch 55: loss improved from 0.48394 to 0.47937, saving model to next_words.h5\n",
            "1986/1986 [==============================] - 31s 15ms/step - loss: 0.4794\n",
            "Epoch 56/70\n",
            "1985/1986 [============================>.] - ETA: 0s - loss: 0.4750\n",
            "Epoch 56: loss improved from 0.47937 to 0.47495, saving model to next_words.h5\n",
            "1986/1986 [==============================] - 30s 15ms/step - loss: 0.4750\n",
            "Epoch 57/70\n",
            "1985/1986 [============================>.] - ETA: 0s - loss: 0.4738\n",
            "Epoch 57: loss improved from 0.47495 to 0.47380, saving model to next_words.h5\n",
            "1986/1986 [==============================] - 30s 15ms/step - loss: 0.4738\n",
            "Epoch 58/70\n",
            "1986/1986 [==============================] - ETA: 0s - loss: 0.4716\n",
            "Epoch 58: loss improved from 0.47380 to 0.47156, saving model to next_words.h5\n",
            "1986/1986 [==============================] - 30s 15ms/step - loss: 0.4716\n",
            "Epoch 59/70\n",
            "1984/1986 [============================>.] - ETA: 0s - loss: 0.4655\n",
            "Epoch 59: loss improved from 0.47156 to 0.46556, saving model to next_words.h5\n",
            "1986/1986 [==============================] - 31s 15ms/step - loss: 0.4656\n",
            "Epoch 60/70\n",
            "1983/1986 [============================>.] - ETA: 0s - loss: 0.4603\n",
            "Epoch 60: loss improved from 0.46556 to 0.46016, saving model to next_words.h5\n",
            "1986/1986 [==============================] - 31s 16ms/step - loss: 0.4602\n",
            "Epoch 61/70\n",
            "1984/1986 [============================>.] - ETA: 0s - loss: 0.4584\n",
            "Epoch 61: loss improved from 0.46016 to 0.45831, saving model to next_words.h5\n",
            "1986/1986 [==============================] - 31s 16ms/step - loss: 0.4583\n",
            "Epoch 62/70\n",
            "1983/1986 [============================>.] - ETA: 0s - loss: 0.4590\n",
            "Epoch 62: loss did not improve from 0.45831\n",
            "1986/1986 [==============================] - 30s 15ms/step - loss: 0.4592\n",
            "Epoch 63/70\n",
            "1985/1986 [============================>.] - ETA: 0s - loss: 0.4515\n",
            "Epoch 63: loss improved from 0.45831 to 0.45153, saving model to next_words.h5\n",
            "1986/1986 [==============================] - 31s 16ms/step - loss: 0.4515\n",
            "Epoch 64/70\n",
            "1984/1986 [============================>.] - ETA: 0s - loss: 0.4494\n",
            "Epoch 64: loss improved from 0.45153 to 0.44942, saving model to next_words.h5\n",
            "1986/1986 [==============================] - 31s 16ms/step - loss: 0.4494\n",
            "Epoch 65/70\n",
            "1984/1986 [============================>.] - ETA: 0s - loss: 0.4516\n",
            "Epoch 65: loss did not improve from 0.44942\n",
            "1986/1986 [==============================] - 30s 15ms/step - loss: 0.4517\n",
            "Epoch 66/70\n",
            "1986/1986 [==============================] - ETA: 0s - loss: 0.4433\n",
            "Epoch 66: loss improved from 0.44942 to 0.44326, saving model to next_words.h5\n",
            "1986/1986 [==============================] - 31s 16ms/step - loss: 0.4433\n",
            "Epoch 67/70\n",
            "1985/1986 [============================>.] - ETA: 0s - loss: 0.4423\n",
            "Epoch 67: loss improved from 0.44326 to 0.44230, saving model to next_words.h5\n",
            "1986/1986 [==============================] - 31s 16ms/step - loss: 0.4423\n",
            "Epoch 68/70\n",
            "1984/1986 [============================>.] - ETA: 0s - loss: 0.4421\n",
            "Epoch 68: loss improved from 0.44230 to 0.44217, saving model to next_words.h5\n",
            "1986/1986 [==============================] - 31s 16ms/step - loss: 0.4422\n",
            "Epoch 69/70\n",
            "1984/1986 [============================>.] - ETA: 0s - loss: 0.4398\n",
            "Epoch 69: loss improved from 0.44217 to 0.43989, saving model to next_words.h5\n",
            "1986/1986 [==============================] - 31s 16ms/step - loss: 0.4399\n",
            "Epoch 70/70\n",
            "1985/1986 [============================>.] - ETA: 0s - loss: 0.4396\n",
            "Epoch 70: loss improved from 0.43989 to 0.43965, saving model to next_words.h5\n",
            "1986/1986 [==============================] - 31s 16ms/step - loss: 0.4397\n"
          ]
        },
        {
          "output_type": "execute_result",
          "data": {
            "text/plain": [
              "<keras.callbacks.History at 0x7f11fe826490>"
            ]
          },
          "metadata": {},
          "execution_count": 22
        }
      ]
    },
    {
      "cell_type": "markdown",
      "source": [
        "**Prediction**"
      ],
      "metadata": {
        "id": "Z9H_Tw4b-uHd"
      }
    },
    {
      "cell_type": "code",
      "source": [
        "from tensorflow.keras.models import load_model\n",
        "import numpy as np\n",
        "import pickle\n",
        "\n",
        "#load the model and tokenizer\n",
        "model = load_model(\"next_words.h5\")\n",
        "tokenizer = pickle.load(open(\"token.pkl\",\"rb\"))\n",
        "\n",
        "def Predict_Next_Words(model, tokenizer, text):\n",
        "    sequence = tokenizer.texts_to_sequences([text])\n",
        "    sequence = np.array(sequence)\n",
        "    preds = np.argmax(model.predict(sequence))\n",
        "    predicted_word = \" \"\n",
        "    \n",
        "    for key, value in tokenizer.word_index.items():\n",
        "        if value == preds:\n",
        "            predicted_word = key\n",
        "            break\n",
        "    print(predicted_word)\n",
        "    return predicted_word"
      ],
      "metadata": {
        "id": "G3WIFp2V-rKO"
      },
      "execution_count": 23,
      "outputs": []
    },
    {
      "cell_type": "code",
      "source": [
        "\n",
        "while(True):\n",
        "    text = input(\"Enter your line: \")\n",
        "    \n",
        "    if text == \"0\":\n",
        "        print(\"Execution completed....\")\n",
        "        break\n",
        "        \n",
        "    else:\n",
        "        try:\n",
        "            text = text.split(\" \")\n",
        "            text = text[-3:]\n",
        "            print(text)\n",
        "            \n",
        "            Predict_Next_Words(model,tokenizer,text)\n",
        "        \n",
        "        except Exception as e:\n",
        "  \n",
        "  \n",
        "            print(\"Error occurred: \",e)\n",
        "            continue\n",
        "            "
      ],
      "metadata": {
        "id": "MahEREJQ-2Wm",
        "colab": {
          "base_uri": "https://localhost:8080/"
        },
        "outputId": "c404ba04-df7c-4c80-e154-b91343d62159"
      },
      "execution_count": 25,
      "outputs": [
        {
          "output_type": "stream",
          "name": "stdout",
          "text": [
            "Enter your line: man of large fortune\n",
            "['of', 'large', 'fortune']\n",
            "from\n",
            "Enter your line: single man of\n",
            "['single', 'man', 'of']\n",
            "large\n",
            "Enter your line: Sir William and\n",
            "['Sir', 'William', 'and']\n",
            "lady\n",
            "Enter your line: 0\n",
            "Execution completed....\n"
          ]
        }
      ]
    },
    {
      "cell_type": "code",
      "source": [],
      "metadata": {
        "id": "mQ8ZUjKcQCmL"
      },
      "execution_count": null,
      "outputs": []
    }
  ]
}